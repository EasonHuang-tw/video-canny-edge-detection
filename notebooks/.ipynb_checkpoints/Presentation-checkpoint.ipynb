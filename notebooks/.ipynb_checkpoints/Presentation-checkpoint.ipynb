{
 "cells": [
  {
   "cell_type": "markdown",
   "metadata": {
    "slideshow": {
     "slide_type": "slide"
    }
   },
   "source": [
    "# Prelucrare Video: Canny Edge Detection\n",
    "### Iulian-Gabriel Radu"
   ]
  },
  {
   "cell_type": "markdown",
   "metadata": {
    "slideshow": {
     "slide_type": "slide"
    }
   },
   "source": [
    "## Introducere\n",
    "\n",
    "* Un operator de detecție de contururi dezvoltat de John F. Canny în 1986.\n",
    "* Algoritm multi-pas pentru detecția unei varietăți largi de contururi.\n",
    "* Susținut de o teorie computațională a detecției de muchii care arată corectitudinea acestei tehnici.\n"
   ]
  },
  {
   "cell_type": "markdown",
   "metadata": {
    "slideshow": {
     "slide_type": "slide"
    }
   },
   "source": [
    "## Ce presupune?\n",
    "\n",
    "* Se aplică un filtru Gaussian pentru reducerea nivelului de zgomot\n",
    "* Se calculează gradientul de intensităţi\n",
    "* Suprimarea non-maximală\n",
    "* Trasarea muchiilor folosind histerezis\n"
   ]
  },
  {
   "cell_type": "markdown",
   "metadata": {
    "collapsed": true,
    "slideshow": {
     "slide_type": "slide"
    }
   },
   "source": [
    "## Înainte şi după\n",
    "![Before](data/before.png)"
   ]
  },
  {
   "cell_type": "markdown",
   "metadata": {
    "slideshow": {
     "slide_type": "subslide"
    }
   },
   "source": [
    "![After](data/after.png)"
   ]
  },
  {
   "cell_type": "markdown",
   "metadata": {
    "slideshow": {
     "slide_type": "slide"
    }
   },
   "source": [
    "## Implementare (1)\n",
    "\n",
    "* Am creat o bibliotecă ce realizează decodarea video-ului şi codificarea într-un nou video după procesare.\n",
    "* Primeşte calea către un fişier video, îl decodifică, iar prin apelarea unei funcţii returnează câte un frame.\n",
    "* Analog, realizează şi codificarea noului video prin setarea fiecărui frame în mod consecutiv.\n"
   ]
  },
  {
   "cell_type": "markdown",
   "metadata": {
    "slideshow": {
     "slide_type": "slide"
    }
   },
   "source": [
    "## Implementare (2)\n",
    "\n",
    "* Fiecare frame este procesat şi adăugat la fişierul video de ieşire.\n",
    "* Am paralelizat doar procesarea frame-ului, nu şi decodificarea/codificarea.\n",
    "* Nu am prelucrat fişierul în mod paralel.\n"
   ]
  },
  {
   "cell_type": "markdown",
   "metadata": {
    "slideshow": {
     "slide_type": "slide"
    }
   },
   "source": [
    "## Profilling\n",
    "\n",
    "* Intel VTune\n",
    "* Perf\n",
    "\n",
    "![](data/profilling.png)"
   ]
  },
  {
   "cell_type": "markdown",
   "metadata": {
    "slideshow": {
     "slide_type": "slide"
    }
   },
   "source": [
    "## OpenMP\n",
    "\n",
    "Am paralelizat:\n",
    "* operaţia de convoluţie\n",
    "* 4 for-uri îmbricate\n",
    "* calcularea intensităţii gradientului\t\t\t\n",
    "* suprimarea non-maximală\n"
   ]
  },
  {
   "cell_type": "markdown",
   "metadata": {
    "slideshow": {
     "slide_type": "slide"
    }
   },
   "source": [
    "## Grafice OpenMP\n",
    "\n",
    "![](data/omp_combined.png)"
   ]
  },
  {
   "cell_type": "markdown",
   "metadata": {
    "slideshow": {
     "slide_type": "slide"
    }
   },
   "source": [
    "## Open MPI şi pthreads\n",
    "\n",
    "* Procesul master împarte imaginea în dreptunghiuri orizontale\n",
    "* Trimite câte un dreptunghi fiecărui proces\n",
    "* Fiecare proces slave apelează algoritmul de Canny Edge Detection pe propriul dreptunghi\n",
    "* Procesele slave trimit dreptunghiul prelucrat procesului master"
   ]
  },
  {
   "cell_type": "markdown",
   "metadata": {
    "slideshow": {
     "slide_type": "slide"
    }
   },
   "source": [
    "## Grafice Open MPI\n",
    "\n",
    "![](data/mpi_combined.png)"
   ]
  },
  {
   "cell_type": "markdown",
   "metadata": {
    "slideshow": {
     "slide_type": "subslide"
    }
   },
   "source": [
    "## Grafice pthreads\n",
    "\n",
    "![](data/pthreads_combined.png)"
   ]
  },
  {
   "cell_type": "markdown",
   "metadata": {
    "slideshow": {
     "slide_type": "slide"
    }
   },
   "source": [
    "## Grafice Open MPI + OpenMP\n",
    "\n",
    "![](data/mpi_omp_combined.png)"
   ]
  }
 ],
 "metadata": {
  "celltoolbar": "Slideshow",
  "kernelspec": {
   "display_name": "Python 2",
   "language": "python",
   "name": "python2"
  },
  "language_info": {
   "codemirror_mode": {
    "name": "ipython",
    "version": 2
   },
   "file_extension": ".py",
   "mimetype": "text/x-python",
   "name": "python",
   "nbconvert_exporter": "python",
   "pygments_lexer": "ipython2",
   "version": "2.7.12"
  }
 },
 "nbformat": 4,
 "nbformat_minor": 2
}
